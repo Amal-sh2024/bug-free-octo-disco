{
 "cells": [
  {
   "cell_type": "markdown",
   "id": "cf66f8b8-da53-4fe6-a59c-f3af918cae2f",
   "metadata": {},
   "source": [
    "# Data Science Tools and Ecosystem"
   ]
  },
  {
   "cell_type": "markdown",
   "id": "5f553859-de97-4337-a383-cb9c4cf42358",
   "metadata": {},
   "source": [
    "### In this notebook, Data Science Tools and Ecosystem are summarized."
   ]
  },
  {
   "cell_type": "markdown",
   "id": "529f0fa4-6856-4f74-bc90-3bcda21a2f1e",
   "metadata": {},
   "source": [
    "**Objectives:**\n",
    "\n",
    "- List popular languages for Data Science\n",
    "- List of open source libraries for  Data Science\n",
    "- Data Science Tools"
   ]
  },
  {
   "cell_type": "markdown",
   "id": "53a4f538-aff1-45b7-95a1-fb570901b132",
   "metadata": {},
   "source": [
    "#### Some of the popular languages that Data Scientists use are:\n",
    "\n",
    "1. Python\n",
    "2. Java\n",
    "3. C++\n",
    "4. C"
   ]
  },
  {
   "cell_type": "markdown",
   "id": "779e1aca-4761-45e6-bb17-825d2304e1c2",
   "metadata": {},
   "source": [
    "#### Some of the commonly used libraries used by Data Scientists include:\n",
    "\n",
    "1. NumPy\n",
    "2. SciPy \n",
    "3. Pandas\n",
    "4. Matplotlib \n",
    "5. Keras"
   ]
  },
  {
   "cell_type": "markdown",
   "id": "6d822f55-466d-41ac-957d-a41293098d34",
   "metadata": {},
   "source": [
    "| Data Science Tools |\n",
    "|------------------- |\n",
    "| Hadoop |\n",
    "| Spark |\n",
    "| Hive |"
   ]
  },
  {
   "cell_type": "markdown",
   "id": "5704d55c-fb51-429d-a6df-7720fe0382b7",
   "metadata": {},
   "source": [
    "### Below are a few examples of evaluating arithmetic expressions in Python"
   ]
  },
  {
   "cell_type": "code",
   "execution_count": 1,
   "id": "5957eb6d-1dfc-4389-9370-9f0b7df791cd",
   "metadata": {},
   "outputs": [
    {
     "data": {
      "text/plain": [
       "17"
      ]
     },
     "execution_count": 1,
     "metadata": {},
     "output_type": "execute_result"
    }
   ],
   "source": [
    "# This a simple arithmetic expression to mutiply then add integers.\n",
    "\n",
    "(3*4)+5"
   ]
  },
  {
   "cell_type": "code",
   "execution_count": 16,
   "id": "2a9f5398-48be-4db0-aabc-852c1b21de51",
   "metadata": {},
   "outputs": [
    {
     "name": "stdout",
     "output_type": "stream",
     "text": [
      "3\n"
     ]
    }
   ],
   "source": [
    "# This will convert 200 minutes to hours by diving by 60.\n",
    "\n",
    "minutes = 220 % 60\n",
    "hours = 220 // 60\n",
    "print(hours)"
   ]
  },
  {
   "cell_type": "markdown",
   "id": "b395f4d4-2ad3-4bfc-9984-ab0e3f683531",
   "metadata": {},
   "source": [
    "## Author\n",
    "Amal"
   ]
  },
  {
   "cell_type": "code",
   "execution_count": null,
   "id": "91bf0cc9-4e5d-4641-ac38-743ab4602c68",
   "metadata": {},
   "outputs": [],
   "source": []
  }
 ],
 "metadata": {
  "kernelspec": {
   "display_name": "Python 3 (ipykernel)",
   "language": "python",
   "name": "python3"
  },
  "language_info": {
   "codemirror_mode": {
    "name": "ipython",
    "version": 3
   },
   "file_extension": ".py",
   "mimetype": "text/x-python",
   "name": "python",
   "nbconvert_exporter": "python",
   "pygments_lexer": "ipython3",
   "version": "3.12.4"
  }
 },
 "nbformat": 4,
 "nbformat_minor": 5
}
